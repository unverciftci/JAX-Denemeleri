{
  "nbformat": 4,
  "nbformat_minor": 0,
  "metadata": {
    "colab": {
      "name": "JAX.ipynb",
      "provenance": [],
      "collapsed_sections": [],
      "authorship_tag": "ABX9TyNCWAw4Ekf6wLnWeY2GWTil",
      "include_colab_link": true
    },
    "kernelspec": {
      "name": "python3",
      "display_name": "Python 3"
    },
    "accelerator": "GPU"
  },
  "cells": [
    {
      "cell_type": "markdown",
      "metadata": {
        "id": "view-in-github",
        "colab_type": "text"
      },
      "source": [
        "<a href=\"https://colab.research.google.com/github/unverciftci/JAX-Denemeleri/blob/master/JAX_0.ipynb\" target=\"_parent\"><img src=\"https://colab.research.google.com/assets/colab-badge.svg\" alt=\"Open In Colab\"/></a>"
      ]
    },
    {
      "cell_type": "markdown",
      "metadata": {
        "id": "e2Qn5xXPucl0",
        "colab_type": "text"
      },
      "source": [
        "# Google JAX İle Hızlandırılmış Hesaplama ve Otomatik Türev Alma "
      ]
    },
    {
      "cell_type": "markdown",
      "metadata": {
        "id": "FQk2Tx-L5Kl0",
        "colab_type": "text"
      },
      "source": [
        "Not: Uygulamamızda GPU kullanacağız. Runtime kısmından \"Change runtime type\", oradan da GPU'yu seçin. "
      ]
    },
    {
      "cell_type": "markdown",
      "metadata": {
        "id": "JFQeZsv7qkg1",
        "colab_type": "text"
      },
      "source": [
        "JAX aslında NumPy kütüphanesinin GPU ve TPU gibi hızlandırıcılara\n",
        "ve otomatik türev almaya uygun olarak geliştirilmişidir diyebiliriz. "
      ]
    },
    {
      "cell_type": "markdown",
      "metadata": {
        "id": "8jBOI8gtq7H0",
        "colab_type": "text"
      },
      "source": [
        "Otomatik türev alma ([Auotograd](https://github.com/HIPS/autograd) veya [Autodiff](https://jax.readthedocs.io/en/latest/notebooks/autodiff_cookbook.html)) sayesinde döngülerin, koşulların (if gibi) ve türevin türevinin türevi bile alınabilir.    "
      ]
    },
    {
      "cell_type": "markdown",
      "metadata": {
        "id": "Gzy6vclZsASB",
        "colab_type": "text"
      },
      "source": [
        "JAX, [XLA](https://github.com/HIPS/autograd) derleyicisini (compiler) kullanarak kodu GPU ve TPU hızlandırıcılarında çalıştırır. Derleme, gerekli kütüphanelerin çağrılması ile hali hazırda çalışır. Fakat siz de kendi fonksiyonlarınızı jit (just-in-time) derleyicisine tanıtabilirsiniz.\n",
        "\n",
        "Derleme ve otomatik türev birleştirilebilir ve karmaşık algoritmalarda bile azami performans sağlanır."
      ]
    },
    {
      "cell_type": "markdown",
      "metadata": {
        "id": "ezDJQf-lu57a",
        "colab_type": "text"
      },
      "source": [
        "Şimdi gerekli kütüphaneleri çağıralım."
      ]
    },
    {
      "cell_type": "code",
      "metadata": {
        "id": "lYzICvgUu5Eu",
        "colab_type": "code",
        "colab": {}
      },
      "source": [
        "import jax.numpy as np\n",
        "from jax import grad, jit, vmap\n",
        "from jax import random"
      ],
      "execution_count": 0,
      "outputs": []
    },
    {
      "cell_type": "markdown",
      "metadata": {
        "id": "3-TNSlR0vetT",
        "colab_type": "text"
      },
      "source": [
        "Matrislerin Çarpımı\n",
        "\n",
        "Birazdan rastgele veri üreteceğiz. NumPy ile Jax rastegele sayıları farklı şekilde üretmektedir. Bizim için bunun önemi paralel hesaplamada ortaya çıkıyor. Ayrıntılar için JAX dökümantosyonuna bakın. "
      ]
    },
    {
      "cell_type": "markdown",
      "metadata": {
        "id": "uYd0umn0wSQj",
        "colab_type": "text"
      },
      "source": [
        "Rastgele sayı oluşturmak için bir anahtar (key) tanımlıyoruz. Buradan yarı rastgele sayı üretebiliriz (PRNG). "
      ]
    },
    {
      "cell_type": "code",
      "metadata": {
        "id": "xH6BKIJtvaHZ",
        "colab_type": "code",
        "colab": {}
      },
      "source": [
        "key = random.PRNGKey(0)"
      ],
      "execution_count": 0,
      "outputs": []
    },
    {
      "cell_type": "markdown",
      "metadata": {
        "id": "CmgEPZNnw7__",
        "colab_type": "text"
      },
      "source": [
        "Yukarıda bir şekilde rastgele sayıların her defasında aynı çıkması için kök (seed) oluşturduk (parantez içindeki 0 yerine başka sayı alarak bu değiştirilebilir)."
      ]
    },
    {
      "cell_type": "markdown",
      "metadata": {
        "id": "9PjqhbjvxoMn",
        "colab_type": "text"
      },
      "source": [
        "Mesela bileşenleri normal dağılımdan oluşturulmuş 10 boyutlu vektör olan x:"
      ]
    },
    {
      "cell_type": "code",
      "metadata": {
        "id": "Xpwr2dTCxlqS",
        "colab_type": "code",
        "outputId": "15947136-9669-4623-847d-b7e4381a7f79",
        "colab": {
          "base_uri": "https://localhost:8080/",
          "height": 54
        }
      },
      "source": [
        "x = random.normal(key, (10,))\n",
        "print(x)"
      ],
      "execution_count": 0,
      "outputs": [
        {
          "output_type": "stream",
          "text": [
            "[-0.3721109   0.26423115 -0.18252768 -0.7368197  -0.44030377 -0.1521442\n",
            " -0.67135346 -0.5908641   0.73168886  0.5673026 ]\n"
          ],
          "name": "stdout"
        }
      ]
    },
    {
      "cell_type": "markdown",
      "metadata": {
        "id": "602eN7GAyJnQ",
        "colab_type": "text"
      },
      "source": [
        "Büyük matrisleri çarpalım."
      ]
    },
    {
      "cell_type": "code",
      "metadata": {
        "id": "15GJCyV9xlio",
        "colab_type": "code",
        "outputId": "43073e31-d117-4374-fee1-787761ff2a73",
        "colab": {
          "base_uri": "https://localhost:8080/",
          "height": 92
        }
      },
      "source": [
        "size = 3000\n",
        "x = random.normal(key, (size, size), dtype=np.float32)\n",
        "%time y = np.dot(x, x.T)\n",
        "%time y = np.dot(x, x.T).block_until_ready()"
      ],
      "execution_count": 0,
      "outputs": [
        {
          "output_type": "stream",
          "text": [
            "CPU times: user 1.07 ms, sys: 263 µs, total: 1.33 ms\n",
            "Wall time: 1.59 ms\n",
            "CPU times: user 17.9 ms, sys: 16.8 ms, total: 34.7 ms\n",
            "Wall time: 37.1 ms\n"
          ],
          "name": "stdout"
        }
      ]
    },
    {
      "cell_type": "markdown",
      "metadata": {
        "id": "_RgAz1cs4JkA",
        "colab_type": "text"
      },
      "source": [
        "block_until_ready dememizin sebebi şu: JAX normalde işlemi sonlandırmıyor sadece hazır hale getiriyor, eğer çıktı isterseniz veya başka yerde kullanılacaksa işleme devam ediyor. Bu şekilde işlemin tamamının süresin öğrendik.\n",
        "\n"
      ]
    },
    {
      "cell_type": "markdown",
      "metadata": {
        "id": "QaQWnkHD4sM-",
        "colab_type": "text"
      },
      "source": [
        "İsterseniz NumPy ile karşılaştıralım."
      ]
    },
    {
      "cell_type": "code",
      "metadata": {
        "id": "rQvxdNz_zAG5",
        "colab_type": "code",
        "outputId": "ec0535a8-b431-4208-c578-efa922fa932a",
        "colab": {
          "base_uri": "https://localhost:8080/",
          "height": 54
        }
      },
      "source": [
        "import numpy as onp\n",
        "%time y = onp.dot(x, x.T)"
      ],
      "execution_count": 0,
      "outputs": [
        {
          "output_type": "stream",
          "text": [
            "CPU times: user 1.63 s, sys: 5.5 ms, total: 1.64 s\n",
            "Wall time: 874 ms\n"
          ],
          "name": "stdout"
        }
      ]
    },
    {
      "cell_type": "code",
      "metadata": {
        "id": "V02ySG303u-J",
        "colab_type": "code",
        "colab": {}
      },
      "source": [
        ""
      ],
      "execution_count": 0,
      "outputs": []
    }
  ]
}