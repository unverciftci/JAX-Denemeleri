{
  "nbformat": 4,
  "nbformat_minor": 0,
  "metadata": {
    "colab": {
      "name": "JAX.ipynb",
      "provenance": [],
      "collapsed_sections": [],
      "authorship_tag": "ABX9TyMLHdcYR6bQ9rFMMTXgd+ax",
      "include_colab_link": true
    },
    "kernelspec": {
      "name": "python3",
      "display_name": "Python 3"
    },
    "accelerator": "GPU"
  },
  "cells": [
    {
      "cell_type": "markdown",
      "metadata": {
        "id": "view-in-github",
        "colab_type": "text"
      },
      "source": [
        "<a href=\"https://colab.research.google.com/github/unverciftci/JAX-Denemeleri/blob/master/JAX_0.ipynb\" target=\"_parent\"><img src=\"https://colab.research.google.com/assets/colab-badge.svg\" alt=\"Open In Colab\"/></a>"
      ]
    },
    {
      "cell_type": "markdown",
      "metadata": {
        "id": "e2Qn5xXPucl0",
        "colab_type": "text"
      },
      "source": [
        "# Google JAX İle Hızlandırılmış Hesaplama ve Otomatik Türev Alma "
      ]
    },
    {
      "cell_type": "markdown",
      "metadata": {
        "id": "FQk2Tx-L5Kl0",
        "colab_type": "text"
      },
      "source": [
        "Not: Uygulamamızda GPU kullanacağız. Runtime kısmından \"Change runtime type\", oradan da GPU'yu seçin. "
      ]
    },
    {
      "cell_type": "markdown",
      "metadata": {
        "id": "JFQeZsv7qkg1",
        "colab_type": "text"
      },
      "source": [
        "JAX aslında NumPy kütüphanesinin GPU ve TPU gibi hızlandırıcılara\n",
        "ve otomatik türev almaya uygun olarak geliştirilmişidir diyebiliriz. "
      ]
    },
    {
      "cell_type": "markdown",
      "metadata": {
        "id": "8jBOI8gtq7H0",
        "colab_type": "text"
      },
      "source": [
        "Otomatik türev alma ([Auotograd](https://github.com/HIPS/autograd) veya [Autodiff](https://jax.readthedocs.io/en/latest/notebooks/autodiff_cookbook.html)) sayesinde döngülerin, koşulların (if gibi) ve türevin türevinin türevi bile alınabilir.    "
      ]
    },
    {
      "cell_type": "markdown",
      "metadata": {
        "id": "Gzy6vclZsASB",
        "colab_type": "text"
      },
      "source": [
        "JAX, [XLA](https://github.com/HIPS/autograd) derleyicisini (compiler) kullanarak kodu GPU ve TPU hızlandırıcılarında çalıştırır. Derleme, gerekli kütüphanelerin çağrılması ile hali hazırda çalışır. Fakat siz de kendi fonksiyonlarınızı jit (just-in-time) derleyicisine tanıtabilirsiniz.\n",
        "\n",
        "Derleme ve otomatik türev birleştirilebilir ve karmaşık algoritmalarda bile azami performans sağlanır."
      ]
    },
    {
      "cell_type": "markdown",
      "metadata": {
        "id": "ezDJQf-lu57a",
        "colab_type": "text"
      },
      "source": [
        "Şimdi gerekli kütüphaneleri çağıralım."
      ]
    },
    {
      "cell_type": "code",
      "metadata": {
        "id": "lYzICvgUu5Eu",
        "colab_type": "code",
        "colab": {}
      },
      "source": [
        "import jax.numpy as np\n",
        "from jax import grad, jit, vmap\n",
        "from jax import random"
      ],
      "execution_count": 0,
      "outputs": []
    },
    {
      "cell_type": "markdown",
      "metadata": {
        "id": "3-TNSlR0vetT",
        "colab_type": "text"
      },
      "source": [
        "Matrislerin Çarpımı\n",
        "\n",
        "Birazdan rastgele veri üreteceğiz. NumPy ile Jax rastegele sayıları farklı şekilde üretmektedir. Bizim için bunun önemi paralel hesaplamada ortaya çıkıyor. Ayrıntılar için JAX dökümantosyonuna bakın. "
      ]
    },
    {
      "cell_type": "markdown",
      "metadata": {
        "id": "uYd0umn0wSQj",
        "colab_type": "text"
      },
      "source": [
        "Rastgele sayı oluşturmak için bir anahtar (key) tanımlıyoruz. Buradan yarı rastgele sayı üretebiliriz (PRNG). "
      ]
    },
    {
      "cell_type": "code",
      "metadata": {
        "id": "xH6BKIJtvaHZ",
        "colab_type": "code",
        "colab": {}
      },
      "source": [
        "key = random.PRNGKey(0)"
      ],
      "execution_count": 0,
      "outputs": []
    },
    {
      "cell_type": "markdown",
      "metadata": {
        "id": "CmgEPZNnw7__",
        "colab_type": "text"
      },
      "source": [
        "Yukarıda bir şekilde rastgele sayıların her defasında aynı çıkması için kök (seed) oluşturduk (parantez içindeki 0 yerine başka sayı alarak bu değiştirilebilir)."
      ]
    },
    {
      "cell_type": "markdown",
      "metadata": {
        "id": "9PjqhbjvxoMn",
        "colab_type": "text"
      },
      "source": [
        "Mesela bileşenleri normal dağılımdan oluşturulmuş 10 boyutlu vektör olan x:"
      ]
    },
    {
      "cell_type": "code",
      "metadata": {
        "id": "Xpwr2dTCxlqS",
        "colab_type": "code",
        "outputId": "b2bf3be0-3954-4407-eee0-96e4c506d233",
        "colab": {
          "base_uri": "https://localhost:8080/",
          "height": 54
        }
      },
      "source": [
        "x = random.normal(key, (10,))\n",
        "print(x)"
      ],
      "execution_count": 4,
      "outputs": [
        {
          "output_type": "stream",
          "text": [
            "[-0.3721109   0.26423115 -0.18252768 -0.7368197  -0.44030377 -0.1521442\n",
            " -0.67135346 -0.5908641   0.73168886  0.5673026 ]\n"
          ],
          "name": "stdout"
        }
      ]
    },
    {
      "cell_type": "markdown",
      "metadata": {
        "id": "602eN7GAyJnQ",
        "colab_type": "text"
      },
      "source": [
        "Büyük matrisleri çarpalım."
      ]
    },
    {
      "cell_type": "code",
      "metadata": {
        "id": "15GJCyV9xlio",
        "colab_type": "code",
        "outputId": "a5969c5a-1cc5-4727-d221-d97336522e44",
        "colab": {
          "base_uri": "https://localhost:8080/",
          "height": 92
        }
      },
      "source": [
        "size = 3000\n",
        "x = random.normal(key, (size, size), dtype=np.float32)\n",
        "%time y = np.dot(x, x.T)\n",
        "%time y = np.dot(x, x.T).block_until_ready()"
      ],
      "execution_count": 5,
      "outputs": [
        {
          "output_type": "stream",
          "text": [
            "CPU times: user 443 ms, sys: 318 ms, total: 762 ms\n",
            "Wall time: 1.98 s\n",
            "CPU times: user 11.7 ms, sys: 8.31 ms, total: 20 ms\n",
            "Wall time: 20.1 ms\n"
          ],
          "name": "stdout"
        }
      ]
    },
    {
      "cell_type": "markdown",
      "metadata": {
        "id": "_RgAz1cs4JkA",
        "colab_type": "text"
      },
      "source": [
        "`block_until_ready` dememizin sebebi şu: JAX normalde işlemi sonlandırmıyor sadece hazır hale getiriyor, eğer çıktı isterseniz veya başka yerde kullanılacaksa işleme devam ediyor. Bu şekilde işlemin tamamının süresin öğrendik.\n",
        "\n"
      ]
    },
    {
      "cell_type": "markdown",
      "metadata": {
        "id": "QaQWnkHD4sM-",
        "colab_type": "text"
      },
      "source": [
        "İsterseniz NumPy ile karşılaştıralım."
      ]
    },
    {
      "cell_type": "code",
      "metadata": {
        "id": "rQvxdNz_zAG5",
        "colab_type": "code",
        "outputId": "cca029d7-bc77-4164-eecc-02741fa45209",
        "colab": {
          "base_uri": "https://localhost:8080/",
          "height": 54
        }
      },
      "source": [
        "import numpy as onp\n",
        "%time y = onp.dot(x, x.T)"
      ],
      "execution_count": 6,
      "outputs": [
        {
          "output_type": "stream",
          "text": [
            "CPU times: user 1.55 s, sys: 42.6 ms, total: 1.6 s\n",
            "Wall time: 854 ms\n"
          ],
          "name": "stdout"
        }
      ]
    },
    {
      "cell_type": "markdown",
      "metadata": {
        "id": "YQxJxSmKGE1V",
        "colab_type": "text"
      },
      "source": [
        "Daha yavaş oldunu gördünüz. Bunu da hızlanırmanın bir yolu var:"
      ]
    },
    {
      "cell_type": "code",
      "metadata": {
        "id": "al9j1toCGf2s",
        "colab_type": "code",
        "colab": {
          "base_uri": "https://localhost:8080/",
          "height": 54
        },
        "outputId": "569116e9-41be-4746-974f-a0272c3b4c09"
      },
      "source": [
        "from jax import device_put\n",
        "\n",
        "x = random.normal(key, (size, size), dtype=np.float32)\n",
        "x = device_put(x)\n",
        "%time y = np.dot(x, x.T).block_until_ready()"
      ],
      "execution_count": 9,
      "outputs": [
        {
          "output_type": "stream",
          "text": [
            "CPU times: user 10.5 ms, sys: 8.88 ms, total: 19.4 ms\n",
            "Wall time: 21 ms\n"
          ],
          "name": "stdout"
        }
      ]
    },
    {
      "cell_type": "markdown",
      "metadata": {
        "id": "0nMhDkbGG9aF",
        "colab_type": "text"
      },
      "source": [
        "Burada `device_put` fonksiyonu `jit(lambda x: x)` görevi yapıyor."
      ]
    },
    {
      "cell_type": "markdown",
      "metadata": {
        "id": "jnRehpHDH7SJ",
        "colab_type": "text"
      },
      "source": [
        "Ama seçenek olarak GPU ya da TPU seçilirse zaten potansiyel kodun işlenmesi daha hızlı olur."
      ]
    },
    {
      "cell_type": "markdown",
      "metadata": {
        "id": "J_TWw7ZbIAJ9",
        "colab_type": "text"
      },
      "source": [
        "JAX sadece hızlandırılmış NumPy değildir. Program dönüştürücüleri sayısal kod yazarken yararlıdır. Bunların bir kaçı:\n",
        "*  `jit`, kodu hızlandırır\n",
        "*  `grad`, türev alır\n",
        "*  `vmap`, otomatik vektörleştime ya da toplu işlem.\n",
        "\n",
        "Şimdi bunları inceleyelim."
      ]
    },
    {
      "cell_type": "markdown",
      "metadata": {
        "id": "Ezji-u-nKT1g",
        "colab_type": "text"
      },
      "source": [
        "## Fonksiyonları `jit` ile Hızlandırma "
      ]
    },
    {
      "cell_type": "markdown",
      "metadata": {
        "id": "-bhMaOkFKfZT",
        "colab_type": "text"
      },
      "source": [
        "JAX normalde işlemleri GPU veya TPU'ya birer birer birer gönderiyor. Eğer ardı ardına işlemler yapacaksanız, bunları kapsayan fonksiyonu `@jit` ile kaplarız."
      ]
    },
    {
      "cell_type": "markdown",
      "metadata": {
        "id": "sAYRMcNIMX6s",
        "colab_type": "text"
      },
      "source": [
        "Mesela yapay sinir ağlarında kullanılan `selu` fonksiyonunu tanımlayalım."
      ]
    },
    {
      "cell_type": "code",
      "metadata": {
        "id": "jkP1tpeNJryd",
        "colab_type": "code",
        "colab": {
          "base_uri": "https://localhost:8080/",
          "height": 54
        },
        "outputId": "61b77392-95e1-41c6-c2d1-c426ba72f76b"
      },
      "source": [
        "def selu(x, alpha=1.67, lmbda=1.05):\n",
        "  return lmbda * np.where(x > 0, x, alpha * np.exp(x) - alpha)\n",
        "\n",
        "x = random.normal(key, (1000000, ))\n",
        "%time y = selu(x).block_until_ready()"
      ],
      "execution_count": 11,
      "outputs": [
        {
          "output_type": "stream",
          "text": [
            "CPU times: user 72.1 ms, sys: 46.8 ms, total: 119 ms\n",
            "Wall time: 362 ms\n"
          ],
          "name": "stdout"
        }
      ]
    },
    {
      "cell_type": "markdown",
      "metadata": {
        "id": "vZVixuHUNNSb",
        "colab_type": "text"
      },
      "source": [
        "Şimdi `jit` ile hızlandıralım. İlk çağrıldığında derlenecek (just-in-time olarak) diğer seferlerde hazır kullanılacak.\n",
        "\n",
        "---\n",
        "\n"
      ]
    },
    {
      "cell_type": "code",
      "metadata": {
        "id": "WxN_8avcNguh",
        "colab_type": "code",
        "colab": {
          "base_uri": "https://localhost:8080/",
          "height": 92
        },
        "outputId": "1d35e7b3-0de9-4d77-f934-0cdd60589f37"
      },
      "source": [
        "selu_jit = jit(selu)\n",
        "%time selu_jit(x).block_until_ready()"
      ],
      "execution_count": 12,
      "outputs": [
        {
          "output_type": "stream",
          "text": [
            "CPU times: user 50.5 ms, sys: 10 ms, total: 60.5 ms\n",
            "Wall time: 116 ms\n"
          ],
          "name": "stdout"
        },
        {
          "output_type": "execute_result",
          "data": {
            "text/plain": [
              "DeviceArray([ 2.093448  ,  0.21820937, -0.5104705 , ...,  0.03640566,\n",
              "              0.7458341 ,  0.20638663], dtype=float32)"
            ]
          },
          "metadata": {
            "tags": []
          },
          "execution_count": 12
        }
      ]
    },
    {
      "cell_type": "markdown",
      "metadata": {
        "id": "vBBZDKkkN5JZ",
        "colab_type": "text"
      },
      "source": [
        "## `grad` ile Türev Alma"
      ]
    },
    {
      "cell_type": "markdown",
      "metadata": {
        "id": "fot5pJ9-OCJI",
        "colab_type": "text"
      },
      "source": [
        "Sayısal değerler alan fonksiyonların türevlerini almak için `grad` kullanılır."
      ]
    },
    {
      "cell_type": "code",
      "metadata": {
        "id": "C2P8mX-RFXxw",
        "colab_type": "code",
        "colab": {
          "base_uri": "https://localhost:8080/",
          "height": 36
        },
        "outputId": "9a83d646-ed1b-44a0-d1a3-3ccf94a112a3"
      },
      "source": [
        "def sum_logistic(x):\n",
        "  return np.sum(1.0 / (1 + np.exp(-x)))\n",
        "\n",
        "x = 3.\n",
        "derivative_fn = grad(sum_logistic)\n",
        "der = derivative_fn(x)\n",
        "print(der)"
      ],
      "execution_count": 25,
      "outputs": [
        {
          "output_type": "stream",
          "text": [
            "0.045176663\n"
          ],
          "name": "stdout"
        }
      ]
    },
    {
      "cell_type": "markdown",
      "metadata": {
        "id": "b-1OxpcwRgLZ",
        "colab_type": "text"
      },
      "source": [
        "`grad` ve `jit` bir arada kullanılabilir."
      ]
    },
    {
      "cell_type": "code",
      "metadata": {
        "id": "6ZsvbXheQ9Ea",
        "colab_type": "code",
        "colab": {
          "base_uri": "https://localhost:8080/",
          "height": 36
        },
        "outputId": "391610bb-8776-44b7-ae73-56fe5c1f1189"
      },
      "source": [
        "der = grad(jit(sum_logistic))(x)\n",
        "print(der)"
      ],
      "execution_count": 26,
      "outputs": [
        {
          "output_type": "stream",
          "text": [
            "0.045176663\n"
          ],
          "name": "stdout"
        }
      ]
    },
    {
      "cell_type": "markdown",
      "metadata": {
        "id": "59AENYcSSWUq",
        "colab_type": "text"
      },
      "source": [
        "Ya da arka arkaya türev alabiliriz."
      ]
    },
    {
      "cell_type": "code",
      "metadata": {
        "id": "Nn6z34xlSCW_",
        "colab_type": "code",
        "colab": {
          "base_uri": "https://localhost:8080/",
          "height": 36
        },
        "outputId": "eb9e43c9-ccb7-4317-ac53-d2de0438ae4e"
      },
      "source": [
        "der = grad(jit(grad(jit(sum_logistic))))(1.)\n",
        "print(der)"
      ],
      "execution_count": 28,
      "outputs": [
        {
          "output_type": "stream",
          "text": [
            "-0.09085776\n"
          ],
          "name": "stdout"
        }
      ]
    },
    {
      "cell_type": "markdown",
      "metadata": {
        "id": "Q61ajjPWU_ky",
        "colab_type": "text"
      },
      "source": [
        "## `vmap` ile Otomatik Olarak Vektörleştirme"
      ]
    },
    {
      "cell_type": "markdown",
      "metadata": {
        "id": "B1KKukW1VJtQ",
        "colab_type": "text"
      },
      "source": [
        "Döngülerin kodu yavaşlattığını bilirsiniz. `vmap` ile vektörleştirme yapıyoruz ve paralel hesaplama yapılabiliyor."
      ]
    },
    {
      "cell_type": "code",
      "metadata": {
        "id": "_5ZGEbqTWQeQ",
        "colab_type": "code",
        "colab": {}
      },
      "source": [
        "mat = random.normal(key, (150, 100))\n",
        "bathced_x = random.normal(key,(10, 100))"
      ],
      "execution_count": 0,
      "outputs": []
    },
    {
      "cell_type": "markdown",
      "metadata": {
        "id": "5HyA1EW3XWKK",
        "colab_type": "text"
      },
      "source": [
        "Yukarıda `mat` matris, `batched_x` ise yan yana vektörlerden oluşan matristir, tıpkı veri matrisi gibi. Şimdi matrisi her bir vektörle döngü ile çarpalım."
      ]
    },
    {
      "cell_type": "code",
      "metadata": {
        "id": "J0o41neQW9Ag",
        "colab_type": "code",
        "colab": {
          "base_uri": "https://localhost:8080/",
          "height": 54
        },
        "outputId": "6e8918d5-206e-42de-d0f4-c193c3f10c55"
      },
      "source": [
        "def naive_batched(v_batched):\n",
        "  return np.stack([np.dot(mat, v) for v in v_batched])\n",
        "\n",
        "%time z = naive_batched(bathced_x)"
      ],
      "execution_count": 44,
      "outputs": [
        {
          "output_type": "stream",
          "text": [
            "CPU times: user 7.01 ms, sys: 0 ns, total: 7.01 ms\n",
            "Wall time: 7.43 ms\n"
          ],
          "name": "stdout"
        }
      ]
    },
    {
      "cell_type": "markdown",
      "metadata": {
        "id": "jJPANBPQYwLQ",
        "colab_type": "text"
      },
      "source": [
        "`vmap` ile hızlandıralım."
      ]
    },
    {
      "cell_type": "code",
      "metadata": {
        "id": "RDs7L4baYiM9",
        "colab_type": "code",
        "colab": {
          "base_uri": "https://localhost:8080/",
          "height": 54
        },
        "outputId": "6537ec30-59ca-47b2-c237-b9917aed1628"
      },
      "source": [
        "@jit\n",
        "def batched(v_batched):\n",
        "  return np.dot(bathced_x, mat.T)\n",
        "\n",
        "%time z = batched(bathced_x)"
      ],
      "execution_count": 46,
      "outputs": [
        {
          "output_type": "stream",
          "text": [
            "CPU times: user 2.27 ms, sys: 0 ns, total: 2.27 ms\n",
            "Wall time: 1.57 ms\n"
          ],
          "name": "stdout"
        }
      ]
    }
  ]
}